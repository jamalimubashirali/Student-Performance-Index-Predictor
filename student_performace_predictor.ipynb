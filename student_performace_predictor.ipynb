{
 "cells": [
  {
   "cell_type": "code",
   "execution_count": 1,
   "id": "35fed97f",
   "metadata": {
    "_cell_guid": "b1076dfc-b9ad-4769-8c92-a6c4dae69d19",
    "_uuid": "8f2839f25d086af736a60e9eeb907d3b93b6e0e5",
    "execution": {
     "iopub.execute_input": "2025-07-28T04:52:52.065035Z",
     "iopub.status.busy": "2025-07-28T04:52:52.064710Z",
     "iopub.status.idle": "2025-07-28T04:53:02.079006Z",
     "shell.execute_reply": "2025-07-28T04:53:02.077971Z"
    },
    "papermill": {
     "duration": 10.021621,
     "end_time": "2025-07-28T04:53:02.080606",
     "exception": false,
     "start_time": "2025-07-28T04:52:52.058985",
     "status": "completed"
    },
    "tags": []
   },
   "outputs": [
    {
     "name": "stdout",
     "output_type": "stream",
     "text": [
      "/kaggle/input/student-performance-multiple-linear-regression/Student_Performance.csv\n"
     ]
    }
   ],
   "source": [
    "# This Python 3 environment comes with many helpful analytics libraries installed\n",
    "# It is defined by the kaggle/python Docker image: https://github.com/kaggle/docker-python\n",
    "# For example, here's several helpful packages to load\n",
    "\n",
    "import pandas as pd\n",
    "import numpy as np\n",
    "from sklearn.model_selection import train_test_split\n",
    "from sklearn.metrics import mean_absolute_error, mean_squared_error, r2_score\n",
    "from sklearn.linear_model import (\n",
    "    LinearRegression,\n",
    "    Ridge,\n",
    "    Lasso,\n",
    "    ElasticNet,\n",
    "    BayesianRidge,\n",
    "    SGDRegressor,\n",
    "    HuberRegressor,\n",
    "    TheilSenRegressor,\n",
    "    RANSACRegressor\n",
    ")\n",
    "from sklearn.tree import DecisionTreeRegressor\n",
    "from sklearn.ensemble import (\n",
    "    RandomForestRegressor,\n",
    "    GradientBoostingRegressor,\n",
    "    AdaBoostRegressor\n",
    ")\n",
    "from sklearn.svm import SVR\n",
    "from sklearn.neighbors import KNeighborsRegressor\n",
    "from sklearn.neural_network import MLPRegressor\n",
    "from sklearn.cross_decomposition import PLSRegression # Partial Least Squares\n",
    "from sklearn.kernel_ridge import KernelRidge # Kernel Ridge Regression\n",
    "from sklearn.compose import ColumnTransformer\n",
    "from sklearn.preprocessing import StandardScaler,OneHotEncoder\n",
    "\n",
    "# Optional: Install these if you want to use them\n",
    "try:\n",
    "    import xgboost as xgb\n",
    "except ImportError:\n",
    "    xgb = None\n",
    "    print(\"XGBoost not installed. Skipping XGBoost Regressor.\")\n",
    "\n",
    "try:\n",
    "    import lightgbm as lgb\n",
    "except ImportError:\n",
    "    lgb = None\n",
    "    print(\"LightGBM not installed. Skipping LightGBM Regressor.\")\n",
    "\n",
    "try:\n",
    "    import catboost as cb\n",
    "except ImportError:\n",
    "    cb = None\n",
    "    print(\"CatBoost not installed. Skipping CatBoost Regressor.\")\n",
    "# Input data files are available in the read-only \"../input/\" directory\n",
    "# For example, running this (by clicking run or pressing Shift+Enter) will list all files under the input directory\n",
    "\n",
    "import os\n",
    "for dirname, _, filenames in os.walk('/kaggle/input'):\n",
    "    for filename in filenames:\n",
    "        print(os.path.join(dirname, filename))\n",
    "\n",
    "# You can write up to 20GB to the current directory (/kaggle/working/) that gets preserved as output when you create a version using \"Save & Run All\" \n",
    "# You can also write temporary files to /kaggle/temp/, but they won't be saved outside of the current session"
   ]
  },
  {
   "cell_type": "code",
   "execution_count": 2,
   "id": "5cb6f222",
   "metadata": {
    "execution": {
     "iopub.execute_input": "2025-07-28T04:53:02.089727Z",
     "iopub.status.busy": "2025-07-28T04:53:02.089096Z",
     "iopub.status.idle": "2025-07-28T04:53:02.139187Z",
     "shell.execute_reply": "2025-07-28T04:53:02.138348Z"
    },
    "papermill": {
     "duration": 0.05624,
     "end_time": "2025-07-28T04:53:02.140788",
     "exception": false,
     "start_time": "2025-07-28T04:53:02.084548",
     "status": "completed"
    },
    "tags": []
   },
   "outputs": [
    {
     "data": {
      "text/html": [
       "<div>\n",
       "<style scoped>\n",
       "    .dataframe tbody tr th:only-of-type {\n",
       "        vertical-align: middle;\n",
       "    }\n",
       "\n",
       "    .dataframe tbody tr th {\n",
       "        vertical-align: top;\n",
       "    }\n",
       "\n",
       "    .dataframe thead th {\n",
       "        text-align: right;\n",
       "    }\n",
       "</style>\n",
       "<table border=\"1\" class=\"dataframe\">\n",
       "  <thead>\n",
       "    <tr style=\"text-align: right;\">\n",
       "      <th></th>\n",
       "      <th>Hours Studied</th>\n",
       "      <th>Previous Scores</th>\n",
       "      <th>Extracurricular Activities</th>\n",
       "      <th>Sleep Hours</th>\n",
       "      <th>Sample Question Papers Practiced</th>\n",
       "      <th>Performance Index</th>\n",
       "    </tr>\n",
       "  </thead>\n",
       "  <tbody>\n",
       "    <tr>\n",
       "      <th>0</th>\n",
       "      <td>7</td>\n",
       "      <td>99</td>\n",
       "      <td>Yes</td>\n",
       "      <td>9</td>\n",
       "      <td>1</td>\n",
       "      <td>91.0</td>\n",
       "    </tr>\n",
       "    <tr>\n",
       "      <th>1</th>\n",
       "      <td>4</td>\n",
       "      <td>82</td>\n",
       "      <td>No</td>\n",
       "      <td>4</td>\n",
       "      <td>2</td>\n",
       "      <td>65.0</td>\n",
       "    </tr>\n",
       "    <tr>\n",
       "      <th>2</th>\n",
       "      <td>8</td>\n",
       "      <td>51</td>\n",
       "      <td>Yes</td>\n",
       "      <td>7</td>\n",
       "      <td>2</td>\n",
       "      <td>45.0</td>\n",
       "    </tr>\n",
       "    <tr>\n",
       "      <th>3</th>\n",
       "      <td>5</td>\n",
       "      <td>52</td>\n",
       "      <td>Yes</td>\n",
       "      <td>5</td>\n",
       "      <td>2</td>\n",
       "      <td>36.0</td>\n",
       "    </tr>\n",
       "    <tr>\n",
       "      <th>4</th>\n",
       "      <td>7</td>\n",
       "      <td>75</td>\n",
       "      <td>No</td>\n",
       "      <td>8</td>\n",
       "      <td>5</td>\n",
       "      <td>66.0</td>\n",
       "    </tr>\n",
       "    <tr>\n",
       "      <th>...</th>\n",
       "      <td>...</td>\n",
       "      <td>...</td>\n",
       "      <td>...</td>\n",
       "      <td>...</td>\n",
       "      <td>...</td>\n",
       "      <td>...</td>\n",
       "    </tr>\n",
       "    <tr>\n",
       "      <th>9995</th>\n",
       "      <td>1</td>\n",
       "      <td>49</td>\n",
       "      <td>Yes</td>\n",
       "      <td>4</td>\n",
       "      <td>2</td>\n",
       "      <td>23.0</td>\n",
       "    </tr>\n",
       "    <tr>\n",
       "      <th>9996</th>\n",
       "      <td>7</td>\n",
       "      <td>64</td>\n",
       "      <td>Yes</td>\n",
       "      <td>8</td>\n",
       "      <td>5</td>\n",
       "      <td>58.0</td>\n",
       "    </tr>\n",
       "    <tr>\n",
       "      <th>9997</th>\n",
       "      <td>6</td>\n",
       "      <td>83</td>\n",
       "      <td>Yes</td>\n",
       "      <td>8</td>\n",
       "      <td>5</td>\n",
       "      <td>74.0</td>\n",
       "    </tr>\n",
       "    <tr>\n",
       "      <th>9998</th>\n",
       "      <td>9</td>\n",
       "      <td>97</td>\n",
       "      <td>Yes</td>\n",
       "      <td>7</td>\n",
       "      <td>0</td>\n",
       "      <td>95.0</td>\n",
       "    </tr>\n",
       "    <tr>\n",
       "      <th>9999</th>\n",
       "      <td>7</td>\n",
       "      <td>74</td>\n",
       "      <td>No</td>\n",
       "      <td>8</td>\n",
       "      <td>1</td>\n",
       "      <td>64.0</td>\n",
       "    </tr>\n",
       "  </tbody>\n",
       "</table>\n",
       "<p>10000 rows × 6 columns</p>\n",
       "</div>"
      ],
      "text/plain": [
       "      Hours Studied  Previous Scores Extracurricular Activities  Sleep Hours  \\\n",
       "0                 7               99                        Yes            9   \n",
       "1                 4               82                         No            4   \n",
       "2                 8               51                        Yes            7   \n",
       "3                 5               52                        Yes            5   \n",
       "4                 7               75                         No            8   \n",
       "...             ...              ...                        ...          ...   \n",
       "9995              1               49                        Yes            4   \n",
       "9996              7               64                        Yes            8   \n",
       "9997              6               83                        Yes            8   \n",
       "9998              9               97                        Yes            7   \n",
       "9999              7               74                         No            8   \n",
       "\n",
       "      Sample Question Papers Practiced  Performance Index  \n",
       "0                                    1               91.0  \n",
       "1                                    2               65.0  \n",
       "2                                    2               45.0  \n",
       "3                                    2               36.0  \n",
       "4                                    5               66.0  \n",
       "...                                ...                ...  \n",
       "9995                                 2               23.0  \n",
       "9996                                 5               58.0  \n",
       "9997                                 5               74.0  \n",
       "9998                                 0               95.0  \n",
       "9999                                 1               64.0  \n",
       "\n",
       "[10000 rows x 6 columns]"
      ]
     },
     "execution_count": 2,
     "metadata": {},
     "output_type": "execute_result"
    }
   ],
   "source": [
    "df = pd.read_csv('/kaggle/input/student-performance-multiple-linear-regression/Student_Performance.csv')\n",
    "df"
   ]
  },
  {
   "cell_type": "code",
   "execution_count": 3,
   "id": "872699c9",
   "metadata": {
    "execution": {
     "iopub.execute_input": "2025-07-28T04:53:02.150123Z",
     "iopub.status.busy": "2025-07-28T04:53:02.149775Z",
     "iopub.status.idle": "2025-07-28T04:53:02.154634Z",
     "shell.execute_reply": "2025-07-28T04:53:02.153731Z"
    },
    "papermill": {
     "duration": 0.011078,
     "end_time": "2025-07-28T04:53:02.156123",
     "exception": false,
     "start_time": "2025-07-28T04:53:02.145045",
     "status": "completed"
    },
    "tags": []
   },
   "outputs": [],
   "source": [
    "df.columns = ['hours_studied' , 'previous_score', 'extra_curr_activities' , 'sleep_hours' , 'simple_ques_papers_prac' , 'performance_index']"
   ]
  },
  {
   "cell_type": "code",
   "execution_count": 4,
   "id": "9f8120e2",
   "metadata": {
    "execution": {
     "iopub.execute_input": "2025-07-28T04:53:02.164993Z",
     "iopub.status.busy": "2025-07-28T04:53:02.164662Z",
     "iopub.status.idle": "2025-07-28T04:53:02.176783Z",
     "shell.execute_reply": "2025-07-28T04:53:02.175905Z"
    },
    "papermill": {
     "duration": 0.018321,
     "end_time": "2025-07-28T04:53:02.178456",
     "exception": false,
     "start_time": "2025-07-28T04:53:02.160135",
     "status": "completed"
    },
    "tags": []
   },
   "outputs": [
    {
     "data": {
      "text/html": [
       "<div>\n",
       "<style scoped>\n",
       "    .dataframe tbody tr th:only-of-type {\n",
       "        vertical-align: middle;\n",
       "    }\n",
       "\n",
       "    .dataframe tbody tr th {\n",
       "        vertical-align: top;\n",
       "    }\n",
       "\n",
       "    .dataframe thead th {\n",
       "        text-align: right;\n",
       "    }\n",
       "</style>\n",
       "<table border=\"1\" class=\"dataframe\">\n",
       "  <thead>\n",
       "    <tr style=\"text-align: right;\">\n",
       "      <th></th>\n",
       "      <th>hours_studied</th>\n",
       "      <th>previous_score</th>\n",
       "      <th>extra_curr_activities</th>\n",
       "      <th>sleep_hours</th>\n",
       "      <th>simple_ques_papers_prac</th>\n",
       "      <th>performance_index</th>\n",
       "    </tr>\n",
       "  </thead>\n",
       "  <tbody>\n",
       "    <tr>\n",
       "      <th>0</th>\n",
       "      <td>7</td>\n",
       "      <td>99</td>\n",
       "      <td>Yes</td>\n",
       "      <td>9</td>\n",
       "      <td>1</td>\n",
       "      <td>91.0</td>\n",
       "    </tr>\n",
       "    <tr>\n",
       "      <th>1</th>\n",
       "      <td>4</td>\n",
       "      <td>82</td>\n",
       "      <td>No</td>\n",
       "      <td>4</td>\n",
       "      <td>2</td>\n",
       "      <td>65.0</td>\n",
       "    </tr>\n",
       "    <tr>\n",
       "      <th>2</th>\n",
       "      <td>8</td>\n",
       "      <td>51</td>\n",
       "      <td>Yes</td>\n",
       "      <td>7</td>\n",
       "      <td>2</td>\n",
       "      <td>45.0</td>\n",
       "    </tr>\n",
       "    <tr>\n",
       "      <th>3</th>\n",
       "      <td>5</td>\n",
       "      <td>52</td>\n",
       "      <td>Yes</td>\n",
       "      <td>5</td>\n",
       "      <td>2</td>\n",
       "      <td>36.0</td>\n",
       "    </tr>\n",
       "    <tr>\n",
       "      <th>4</th>\n",
       "      <td>7</td>\n",
       "      <td>75</td>\n",
       "      <td>No</td>\n",
       "      <td>8</td>\n",
       "      <td>5</td>\n",
       "      <td>66.0</td>\n",
       "    </tr>\n",
       "    <tr>\n",
       "      <th>...</th>\n",
       "      <td>...</td>\n",
       "      <td>...</td>\n",
       "      <td>...</td>\n",
       "      <td>...</td>\n",
       "      <td>...</td>\n",
       "      <td>...</td>\n",
       "    </tr>\n",
       "    <tr>\n",
       "      <th>9995</th>\n",
       "      <td>1</td>\n",
       "      <td>49</td>\n",
       "      <td>Yes</td>\n",
       "      <td>4</td>\n",
       "      <td>2</td>\n",
       "      <td>23.0</td>\n",
       "    </tr>\n",
       "    <tr>\n",
       "      <th>9996</th>\n",
       "      <td>7</td>\n",
       "      <td>64</td>\n",
       "      <td>Yes</td>\n",
       "      <td>8</td>\n",
       "      <td>5</td>\n",
       "      <td>58.0</td>\n",
       "    </tr>\n",
       "    <tr>\n",
       "      <th>9997</th>\n",
       "      <td>6</td>\n",
       "      <td>83</td>\n",
       "      <td>Yes</td>\n",
       "      <td>8</td>\n",
       "      <td>5</td>\n",
       "      <td>74.0</td>\n",
       "    </tr>\n",
       "    <tr>\n",
       "      <th>9998</th>\n",
       "      <td>9</td>\n",
       "      <td>97</td>\n",
       "      <td>Yes</td>\n",
       "      <td>7</td>\n",
       "      <td>0</td>\n",
       "      <td>95.0</td>\n",
       "    </tr>\n",
       "    <tr>\n",
       "      <th>9999</th>\n",
       "      <td>7</td>\n",
       "      <td>74</td>\n",
       "      <td>No</td>\n",
       "      <td>8</td>\n",
       "      <td>1</td>\n",
       "      <td>64.0</td>\n",
       "    </tr>\n",
       "  </tbody>\n",
       "</table>\n",
       "<p>10000 rows × 6 columns</p>\n",
       "</div>"
      ],
      "text/plain": [
       "      hours_studied  previous_score extra_curr_activities  sleep_hours  \\\n",
       "0                 7              99                   Yes            9   \n",
       "1                 4              82                    No            4   \n",
       "2                 8              51                   Yes            7   \n",
       "3                 5              52                   Yes            5   \n",
       "4                 7              75                    No            8   \n",
       "...             ...             ...                   ...          ...   \n",
       "9995              1              49                   Yes            4   \n",
       "9996              7              64                   Yes            8   \n",
       "9997              6              83                   Yes            8   \n",
       "9998              9              97                   Yes            7   \n",
       "9999              7              74                    No            8   \n",
       "\n",
       "      simple_ques_papers_prac  performance_index  \n",
       "0                           1               91.0  \n",
       "1                           2               65.0  \n",
       "2                           2               45.0  \n",
       "3                           2               36.0  \n",
       "4                           5               66.0  \n",
       "...                       ...                ...  \n",
       "9995                        2               23.0  \n",
       "9996                        5               58.0  \n",
       "9997                        5               74.0  \n",
       "9998                        0               95.0  \n",
       "9999                        1               64.0  \n",
       "\n",
       "[10000 rows x 6 columns]"
      ]
     },
     "execution_count": 4,
     "metadata": {},
     "output_type": "execute_result"
    }
   ],
   "source": [
    "df"
   ]
  },
  {
   "cell_type": "code",
   "execution_count": 5,
   "id": "94275622",
   "metadata": {
    "execution": {
     "iopub.execute_input": "2025-07-28T04:53:02.187851Z",
     "iopub.status.busy": "2025-07-28T04:53:02.187532Z",
     "iopub.status.idle": "2025-07-28T04:53:02.201397Z",
     "shell.execute_reply": "2025-07-28T04:53:02.200516Z"
    },
    "papermill": {
     "duration": 0.020246,
     "end_time": "2025-07-28T04:53:02.202910",
     "exception": false,
     "start_time": "2025-07-28T04:53:02.182664",
     "status": "completed"
    },
    "tags": []
   },
   "outputs": [
    {
     "data": {
      "text/plain": [
       "127"
      ]
     },
     "execution_count": 5,
     "metadata": {},
     "output_type": "execute_result"
    }
   ],
   "source": [
    "# Getting Duplicates in data\n",
    "df.duplicated().sum()"
   ]
  },
  {
   "cell_type": "code",
   "execution_count": 6,
   "id": "11cf35fc",
   "metadata": {
    "execution": {
     "iopub.execute_input": "2025-07-28T04:53:02.212664Z",
     "iopub.status.busy": "2025-07-28T04:53:02.212326Z",
     "iopub.status.idle": "2025-07-28T04:53:02.220374Z",
     "shell.execute_reply": "2025-07-28T04:53:02.219548Z"
    },
    "papermill": {
     "duration": 0.014836,
     "end_time": "2025-07-28T04:53:02.221881",
     "exception": false,
     "start_time": "2025-07-28T04:53:02.207045",
     "status": "completed"
    },
    "tags": []
   },
   "outputs": [],
   "source": [
    "# Cleaning up duplicates to make unbiased and accurate predictions\n",
    "new_df = df.drop_duplicates()"
   ]
  },
  {
   "cell_type": "code",
   "execution_count": 7,
   "id": "04e93fbc",
   "metadata": {
    "execution": {
     "iopub.execute_input": "2025-07-28T04:53:02.231802Z",
     "iopub.status.busy": "2025-07-28T04:53:02.231463Z",
     "iopub.status.idle": "2025-07-28T04:53:02.251480Z",
     "shell.execute_reply": "2025-07-28T04:53:02.250266Z"
    },
    "papermill": {
     "duration": 0.026728,
     "end_time": "2025-07-28T04:53:02.252933",
     "exception": false,
     "start_time": "2025-07-28T04:53:02.226205",
     "status": "completed"
    },
    "tags": []
   },
   "outputs": [
    {
     "name": "stdout",
     "output_type": "stream",
     "text": [
      "<class 'pandas.core.frame.DataFrame'>\n",
      "Index: 9873 entries, 0 to 9999\n",
      "Data columns (total 6 columns):\n",
      " #   Column                   Non-Null Count  Dtype  \n",
      "---  ------                   --------------  -----  \n",
      " 0   hours_studied            9873 non-null   int64  \n",
      " 1   previous_score           9873 non-null   int64  \n",
      " 2   extra_curr_activities    9873 non-null   object \n",
      " 3   sleep_hours              9873 non-null   int64  \n",
      " 4   simple_ques_papers_prac  9873 non-null   int64  \n",
      " 5   performance_index        9873 non-null   float64\n",
      "dtypes: float64(1), int64(4), object(1)\n",
      "memory usage: 539.9+ KB\n"
     ]
    }
   ],
   "source": [
    "new_df.info()"
   ]
  },
  {
   "cell_type": "code",
   "execution_count": 8,
   "id": "be1f36d2",
   "metadata": {
    "execution": {
     "iopub.execute_input": "2025-07-28T04:53:02.262546Z",
     "iopub.status.busy": "2025-07-28T04:53:02.262228Z",
     "iopub.status.idle": "2025-07-28T04:53:02.268745Z",
     "shell.execute_reply": "2025-07-28T04:53:02.267825Z"
    },
    "papermill": {
     "duration": 0.013057,
     "end_time": "2025-07-28T04:53:02.270312",
     "exception": false,
     "start_time": "2025-07-28T04:53:02.257255",
     "status": "completed"
    },
    "tags": []
   },
   "outputs": [],
   "source": [
    "# Splitting Dependent and Independent Features\n",
    "X = new_df.drop(columns=['performance_index'] , axis=1)\n",
    "y = new_df['performance_index']"
   ]
  },
  {
   "cell_type": "code",
   "execution_count": 9,
   "id": "712dcd8d",
   "metadata": {
    "execution": {
     "iopub.execute_input": "2025-07-28T04:53:02.280129Z",
     "iopub.status.busy": "2025-07-28T04:53:02.279760Z",
     "iopub.status.idle": "2025-07-28T04:53:02.285653Z",
     "shell.execute_reply": "2025-07-28T04:53:02.284629Z"
    },
    "papermill": {
     "duration": 0.012637,
     "end_time": "2025-07-28T04:53:02.287408",
     "exception": false,
     "start_time": "2025-07-28T04:53:02.274771",
     "status": "completed"
    },
    "tags": []
   },
   "outputs": [],
   "source": [
    "# Getting Numeric and Categorical Columns for Data Cleaning and Imputation\n",
    "numerical_cols = X.select_dtypes(include=np.number).columns.tolist()\n",
    "categorical_cols = X.select_dtypes(include='object').columns.tolist()"
   ]
  },
  {
   "cell_type": "code",
   "execution_count": 10,
   "id": "a176208b",
   "metadata": {
    "execution": {
     "iopub.execute_input": "2025-07-28T04:53:02.297150Z",
     "iopub.status.busy": "2025-07-28T04:53:02.296789Z",
     "iopub.status.idle": "2025-07-28T04:53:02.301784Z",
     "shell.execute_reply": "2025-07-28T04:53:02.300944Z"
    },
    "papermill": {
     "duration": 0.011991,
     "end_time": "2025-07-28T04:53:02.303621",
     "exception": false,
     "start_time": "2025-07-28T04:53:02.291630",
     "status": "completed"
    },
    "tags": []
   },
   "outputs": [],
   "source": [
    "preprocessor = ColumnTransformer(\n",
    "    transformers=[\n",
    "        # Corrected line: (name, transformer_object, columns_to_apply_to)\n",
    "        ('num', StandardScaler(), numerical_cols),\n",
    "        ('cat', OneHotEncoder(handle_unknown='ignore'), categorical_cols)\n",
    "    ],\n",
    "    remainder='passthrough' # Keep any other columns that weren't specified\n",
    ")"
   ]
  },
  {
   "cell_type": "code",
   "execution_count": 11,
   "id": "b46d51e1",
   "metadata": {
    "execution": {
     "iopub.execute_input": "2025-07-28T04:53:02.314935Z",
     "iopub.status.busy": "2025-07-28T04:53:02.314618Z",
     "iopub.status.idle": "2025-07-28T04:53:02.322642Z",
     "shell.execute_reply": "2025-07-28T04:53:02.321597Z"
    },
    "papermill": {
     "duration": 0.015054,
     "end_time": "2025-07-28T04:53:02.324254",
     "exception": false,
     "start_time": "2025-07-28T04:53:02.309200",
     "status": "completed"
    },
    "tags": []
   },
   "outputs": [],
   "source": [
    "# Splitting Data for training and testing\n",
    "X_train , X_test , y_train , y_test = train_test_split(X , y , test_size = 0.2 , random_state=42)"
   ]
  },
  {
   "cell_type": "code",
   "execution_count": 12,
   "id": "c067bd54",
   "metadata": {
    "execution": {
     "iopub.execute_input": "2025-07-28T04:53:02.334913Z",
     "iopub.status.busy": "2025-07-28T04:53:02.333762Z",
     "iopub.status.idle": "2025-07-28T04:53:02.368901Z",
     "shell.execute_reply": "2025-07-28T04:53:02.368116Z"
    },
    "papermill": {
     "duration": 0.041876,
     "end_time": "2025-07-28T04:53:02.370558",
     "exception": false,
     "start_time": "2025-07-28T04:53:02.328682",
     "status": "completed"
    },
    "tags": []
   },
   "outputs": [],
   "source": [
    "# Transforming training and testing data\n",
    "X_train_transformed = preprocessor.fit_transform(X_train)\n",
    "X_test_transformed = preprocessor.transform(X_test)"
   ]
  },
  {
   "cell_type": "code",
   "execution_count": 13,
   "id": "38fa1e78",
   "metadata": {
    "execution": {
     "iopub.execute_input": "2025-07-28T04:53:02.380357Z",
     "iopub.status.busy": "2025-07-28T04:53:02.379678Z",
     "iopub.status.idle": "2025-07-28T04:53:02.419191Z",
     "shell.execute_reply": "2025-07-28T04:53:02.418200Z"
    },
    "papermill": {
     "duration": 0.046178,
     "end_time": "2025-07-28T04:53:02.421015",
     "exception": false,
     "start_time": "2025-07-28T04:53:02.374837",
     "status": "completed"
    },
    "tags": []
   },
   "outputs": [
    {
     "data": {
      "text/html": [
       "<style>#sk-container-id-1 {color: black;background-color: white;}#sk-container-id-1 pre{padding: 0;}#sk-container-id-1 div.sk-toggleable {background-color: white;}#sk-container-id-1 label.sk-toggleable__label {cursor: pointer;display: block;width: 100%;margin-bottom: 0;padding: 0.3em;box-sizing: border-box;text-align: center;}#sk-container-id-1 label.sk-toggleable__label-arrow:before {content: \"▸\";float: left;margin-right: 0.25em;color: #696969;}#sk-container-id-1 label.sk-toggleable__label-arrow:hover:before {color: black;}#sk-container-id-1 div.sk-estimator:hover label.sk-toggleable__label-arrow:before {color: black;}#sk-container-id-1 div.sk-toggleable__content {max-height: 0;max-width: 0;overflow: hidden;text-align: left;background-color: #f0f8ff;}#sk-container-id-1 div.sk-toggleable__content pre {margin: 0.2em;color: black;border-radius: 0.25em;background-color: #f0f8ff;}#sk-container-id-1 input.sk-toggleable__control:checked~div.sk-toggleable__content {max-height: 200px;max-width: 100%;overflow: auto;}#sk-container-id-1 input.sk-toggleable__control:checked~label.sk-toggleable__label-arrow:before {content: \"▾\";}#sk-container-id-1 div.sk-estimator input.sk-toggleable__control:checked~label.sk-toggleable__label {background-color: #d4ebff;}#sk-container-id-1 div.sk-label input.sk-toggleable__control:checked~label.sk-toggleable__label {background-color: #d4ebff;}#sk-container-id-1 input.sk-hidden--visually {border: 0;clip: rect(1px 1px 1px 1px);clip: rect(1px, 1px, 1px, 1px);height: 1px;margin: -1px;overflow: hidden;padding: 0;position: absolute;width: 1px;}#sk-container-id-1 div.sk-estimator {font-family: monospace;background-color: #f0f8ff;border: 1px dotted black;border-radius: 0.25em;box-sizing: border-box;margin-bottom: 0.5em;}#sk-container-id-1 div.sk-estimator:hover {background-color: #d4ebff;}#sk-container-id-1 div.sk-parallel-item::after {content: \"\";width: 100%;border-bottom: 1px solid gray;flex-grow: 1;}#sk-container-id-1 div.sk-label:hover label.sk-toggleable__label {background-color: #d4ebff;}#sk-container-id-1 div.sk-serial::before {content: \"\";position: absolute;border-left: 1px solid gray;box-sizing: border-box;top: 0;bottom: 0;left: 50%;z-index: 0;}#sk-container-id-1 div.sk-serial {display: flex;flex-direction: column;align-items: center;background-color: white;padding-right: 0.2em;padding-left: 0.2em;position: relative;}#sk-container-id-1 div.sk-item {position: relative;z-index: 1;}#sk-container-id-1 div.sk-parallel {display: flex;align-items: stretch;justify-content: center;background-color: white;position: relative;}#sk-container-id-1 div.sk-item::before, #sk-container-id-1 div.sk-parallel-item::before {content: \"\";position: absolute;border-left: 1px solid gray;box-sizing: border-box;top: 0;bottom: 0;left: 50%;z-index: -1;}#sk-container-id-1 div.sk-parallel-item {display: flex;flex-direction: column;z-index: 1;position: relative;background-color: white;}#sk-container-id-1 div.sk-parallel-item:first-child::after {align-self: flex-end;width: 50%;}#sk-container-id-1 div.sk-parallel-item:last-child::after {align-self: flex-start;width: 50%;}#sk-container-id-1 div.sk-parallel-item:only-child::after {width: 0;}#sk-container-id-1 div.sk-dashed-wrapped {border: 1px dashed gray;margin: 0 0.4em 0.5em 0.4em;box-sizing: border-box;padding-bottom: 0.4em;background-color: white;}#sk-container-id-1 div.sk-label label {font-family: monospace;font-weight: bold;display: inline-block;line-height: 1.2em;}#sk-container-id-1 div.sk-label-container {text-align: center;}#sk-container-id-1 div.sk-container {/* jupyter's `normalize.less` sets `[hidden] { display: none; }` but bootstrap.min.css set `[hidden] { display: none !important; }` so we also need the `!important` here to be able to override the default hidden behavior on the sphinx rendered scikit-learn.org. See: https://github.com/scikit-learn/scikit-learn/issues/21755 */display: inline-block !important;position: relative;}#sk-container-id-1 div.sk-text-repr-fallback {display: none;}</style><div id=\"sk-container-id-1\" class=\"sk-top-container\"><div class=\"sk-text-repr-fallback\"><pre>LinearRegression()</pre><b>In a Jupyter environment, please rerun this cell to show the HTML representation or trust the notebook. <br />On GitHub, the HTML representation is unable to render, please try loading this page with nbviewer.org.</b></div><div class=\"sk-container\" hidden><div class=\"sk-item\"><div class=\"sk-estimator sk-toggleable\"><input class=\"sk-toggleable__control sk-hidden--visually\" id=\"sk-estimator-id-1\" type=\"checkbox\" checked><label for=\"sk-estimator-id-1\" class=\"sk-toggleable__label sk-toggleable__label-arrow\">LinearRegression</label><div class=\"sk-toggleable__content\"><pre>LinearRegression()</pre></div></div></div></div></div>"
      ],
      "text/plain": [
       "LinearRegression()"
      ]
     },
     "execution_count": 13,
     "metadata": {},
     "output_type": "execute_result"
    }
   ],
   "source": [
    "# Training Model over preprocessed Data\n",
    "lr = LinearRegression()\n",
    "lr.fit(X_train_transformed , y_train)"
   ]
  },
  {
   "cell_type": "code",
   "execution_count": 14,
   "id": "b1d41681",
   "metadata": {
    "execution": {
     "iopub.execute_input": "2025-07-28T04:53:02.431249Z",
     "iopub.status.busy": "2025-07-28T04:53:02.430927Z",
     "iopub.status.idle": "2025-07-28T04:53:02.441908Z",
     "shell.execute_reply": "2025-07-28T04:53:02.441103Z"
    },
    "papermill": {
     "duration": 0.017528,
     "end_time": "2025-07-28T04:53:02.443401",
     "exception": false,
     "start_time": "2025-07-28T04:53:02.425873",
     "status": "completed"
    },
    "tags": []
   },
   "outputs": [
    {
     "data": {
      "text/plain": [
       "0.9884301209927054"
      ]
     },
     "execution_count": 14,
     "metadata": {},
     "output_type": "execute_result"
    }
   ],
   "source": [
    "predictions = lr.predict(X_test_transformed)\n",
    "score = r2_score(y_test , predictions)\n",
    "score"
   ]
  },
  {
   "cell_type": "code",
   "execution_count": 15,
   "id": "0098ea01",
   "metadata": {
    "execution": {
     "iopub.execute_input": "2025-07-28T04:53:02.455912Z",
     "iopub.status.busy": "2025-07-28T04:53:02.455553Z",
     "iopub.status.idle": "2025-07-28T04:53:02.471897Z",
     "shell.execute_reply": "2025-07-28T04:53:02.470925Z"
    },
    "papermill": {
     "duration": 0.024372,
     "end_time": "2025-07-28T04:53:02.473394",
     "exception": false,
     "start_time": "2025-07-28T04:53:02.449022",
     "status": "completed"
    },
    "tags": []
   },
   "outputs": [],
   "source": [
    "def evaluate_regression_models(X_train, y_train, X_test, y_test, random_state=42):\n",
    "    \"\"\"\n",
    "    Trains and evaluates a variety of regression models on the given data.\n",
    "\n",
    "    Args:\n",
    "        X_train (pd.DataFrame or np.ndarray): Training features.\n",
    "        y_train (pd.Series or np.ndarray): Training target.\n",
    "        X_test (pd.DataFrame or np.ndarray): Test features.\n",
    "        y_test (pd.Series or np.ndarray): Test target.\n",
    "        random_state (int): Seed for reproducibility where applicable.\n",
    "\n",
    "    Returns:\n",
    "        dict: A dictionary where keys are model names and values are dictionaries\n",
    "              containing 'MAE', 'MSE', 'RMSE', and 'R2_Score'.\n",
    "    \"\"\"\n",
    "\n",
    "    # List of models to evaluate\n",
    "    # Some models have specific parameters set for better default behavior or convergence\n",
    "    models = [\n",
    "        (\"Linear Regression\", LinearRegression()),\n",
    "        (\"Ridge Regression\", Ridge(random_state=random_state)),\n",
    "        (\"Lasso Regression\", Lasso(random_state=random_state)),\n",
    "        (\"ElasticNet Regression\", ElasticNet(random_state=random_state)),\n",
    "        (\"Bayesian Ridge Regression\", BayesianRidge()),\n",
    "        (\"SGD Regressor\", SGDRegressor(random_state=random_state, max_iter=1000, tol=1e-3)), # Increased max_iter\n",
    "        (\"Huber Regressor\", HuberRegressor(max_iter=1000)),\n",
    "        (\"Theil-Sen Regressor\", TheilSenRegressor(random_state=random_state)),\n",
    "        (\"RANSAC Regressor\", RANSACRegressor(random_state=random_state, min_samples=0.5)), # min_samples can be adjusted\n",
    "        (\"Decision Tree Regressor\", DecisionTreeRegressor(random_state=random_state)),\n",
    "        (\"Random Forest Regressor\", RandomForestRegressor(random_state=random_state, n_estimators=100)),\n",
    "        (\"Gradient Boosting Regressor\", GradientBoostingRegressor(random_state=random_state, n_estimators=100)),\n",
    "        (\"AdaBoost Regressor\", AdaBoostRegressor(random_state=random_state, n_estimators=100)),\n",
    "        (\"K-Neighbors Regressor\", KNeighborsRegressor()),\n",
    "        (\"SVR (RBF Kernel)\", SVR(kernel='rbf')), # RBF is common for non-linear\n",
    "        (\"SVR (Linear Kernel)\", SVR(kernel='linear')),\n",
    "        (\"MLP Regressor\", MLPRegressor(random_state=random_state, max_iter=500, early_stopping=True, n_iter_no_change=50)), # Increased max_iter, added early stopping\n",
    "        (\"PLS Regression\", PLSRegression(n_components=2)), # n_components is important for PLS\n",
    "        (\"Kernel Ridge Regression\", KernelRidge(alpha=1.0, kernel='rbf')) # alpha and kernel are important for KRR\n",
    "    ]\n",
    "\n",
    "    # Add external models if installed\n",
    "    if xgb:\n",
    "        models.append((\"XGBoost Regressor\", xgb.XGBRegressor(random_state=random_state, n_estimators=100, eval_metric='rmse', use_label_encoder=False)))\n",
    "    if lgb:\n",
    "        models.append((\"LightGBM Regressor\", lgb.LGBMRegressor(random_state=random_state, n_estimators=100)))\n",
    "    if cb:\n",
    "        models.append((\"CatBoost Regressor\", cb.CatBoostRegressor(random_state=random_state, verbose=0, n_estimators=100)))\n",
    "\n",
    "    results = {}\n",
    "\n",
    "    print(\"Starting model evaluation...\")\n",
    "    for name, model in models:\n",
    "        print(f\"\\n--- Training {name} ---\")\n",
    "        try:\n",
    "            # Fit the model\n",
    "            model.fit(X_train, y_train)\n",
    "\n",
    "            # Make predictions\n",
    "            y_pred = model.predict(X_test)\n",
    "\n",
    "            # Calculate metrics\n",
    "            mae = mean_absolute_error(y_test, y_pred)\n",
    "            mse = mean_squared_error(y_test, y_pred)\n",
    "            rmse = np.sqrt(mse) # RMSE is the square root of MSE\n",
    "            r2 = r2_score(y_test, y_pred)\n",
    "\n",
    "            results[name] = {\n",
    "                'MAE': mae,\n",
    "                'MSE': mse,\n",
    "                'RMSE': rmse,\n",
    "                'R2_Score': r2\n",
    "            }\n",
    "            print(f\"{name} - MAE: {mae:.4f}, MSE: {mse:.4f}, RMSE: {rmse:.4f}, R2: {r2:.4f}\")\n",
    "\n",
    "        except Exception as e:\n",
    "            results[name] = {'Error': str(e)}\n",
    "            print(f\"Error training/evaluating {name}: {e}\")\n",
    "\n",
    "    print(\"\\nModel evaluation complete.\")\n",
    "    return results"
   ]
  },
  {
   "cell_type": "code",
   "execution_count": 16,
   "id": "cf655bd3",
   "metadata": {
    "execution": {
     "iopub.execute_input": "2025-07-28T04:53:02.484370Z",
     "iopub.status.busy": "2025-07-28T04:53:02.483606Z",
     "iopub.status.idle": "2025-07-28T04:53:24.375920Z",
     "shell.execute_reply": "2025-07-28T04:53:24.374954Z"
    },
    "papermill": {
     "duration": 21.899407,
     "end_time": "2025-07-28T04:53:24.377622",
     "exception": false,
     "start_time": "2025-07-28T04:53:02.478215",
     "status": "completed"
    },
    "tags": []
   },
   "outputs": [
    {
     "name": "stdout",
     "output_type": "stream",
     "text": [
      "Starting model evaluation...\n",
      "\n",
      "--- Training Linear Regression ---\n",
      "Linear Regression - MAE: 1.6470, MSE: 4.3059, RMSE: 2.0751, R2: 0.9884\n",
      "\n",
      "--- Training Ridge Regression ---\n",
      "Ridge Regression - MAE: 1.6470, MSE: 4.3060, RMSE: 2.0751, R2: 0.9884\n",
      "\n",
      "--- Training Lasso Regression ---\n",
      "Lasso Regression - MAE: 2.2132, MSE: 7.7267, RMSE: 2.7797, R2: 0.9792\n",
      "\n",
      "--- Training ElasticNet Regression ---\n",
      "ElasticNet Regression - MAE: 6.0225, MSE: 52.4413, RMSE: 7.2416, R2: 0.8591\n",
      "\n",
      "--- Training Bayesian Ridge Regression ---\n",
      "Bayesian Ridge Regression - MAE: 1.6470, MSE: 4.3059, RMSE: 2.0751, R2: 0.9884\n",
      "\n",
      "--- Training SGD Regressor ---\n",
      "SGD Regressor - MAE: 1.6483, MSE: 4.3164, RMSE: 2.0776, R2: 0.9884\n",
      "\n",
      "--- Training Huber Regressor ---\n",
      "Huber Regressor - MAE: 1.6473, MSE: 4.3069, RMSE: 2.0753, R2: 0.9884\n",
      "\n",
      "--- Training Theil-Sen Regressor ---\n",
      "Theil-Sen Regressor - MAE: 1.6480, MSE: 4.3141, RMSE: 2.0771, R2: 0.9884\n",
      "\n",
      "--- Training RANSAC Regressor ---\n",
      "RANSAC Regressor - MAE: 1.6470, MSE: 4.3059, RMSE: 2.0751, R2: 0.9884\n",
      "\n",
      "--- Training Decision Tree Regressor ---\n",
      "Decision Tree Regressor - MAE: 2.4332, MSE: 9.3061, RMSE: 3.0506, R2: 0.9750\n",
      "\n",
      "--- Training Random Forest Regressor ---\n",
      "Random Forest Regressor - MAE: 1.8950, MSE: 5.6151, RMSE: 2.3696, R2: 0.9849\n",
      "\n",
      "--- Training Gradient Boosting Regressor ---\n",
      "Gradient Boosting Regressor - MAE: 1.6958, MSE: 4.5759, RMSE: 2.1391, R2: 0.9877\n",
      "\n",
      "--- Training AdaBoost Regressor ---\n",
      "AdaBoost Regressor - MAE: 2.2543, MSE: 8.0578, RMSE: 2.8386, R2: 0.9783\n",
      "\n",
      "--- Training K-Neighbors Regressor ---\n",
      "K-Neighbors Regressor - MAE: 2.3614, MSE: 8.7567, RMSE: 2.9592, R2: 0.9765\n",
      "\n",
      "--- Training SVR (RBF Kernel) ---\n",
      "SVR (RBF Kernel) - MAE: 1.8179, MSE: 5.4183, RMSE: 2.3277, R2: 0.9854\n",
      "\n",
      "--- Training SVR (Linear Kernel) ---\n",
      "SVR (Linear Kernel) - MAE: 1.6480, MSE: 4.3114, RMSE: 2.0764, R2: 0.9884\n",
      "\n",
      "--- Training MLP Regressor ---\n",
      "MLP Regressor - MAE: 1.6647, MSE: 4.4213, RMSE: 2.1027, R2: 0.9881\n",
      "\n",
      "--- Training PLS Regression ---\n",
      "PLS Regression - MAE: 1.6469, MSE: 4.3060, RMSE: 2.0751, R2: 0.9884\n",
      "\n",
      "--- Training Kernel Ridge Regression ---\n",
      "Kernel Ridge Regression - MAE: 1.7758, MSE: 5.1230, RMSE: 2.2634, R2: 0.9862\n",
      "\n",
      "--- Training XGBoost Regressor ---\n",
      "XGBoost Regressor - MAE: 1.8071, MSE: 5.1278, RMSE: 2.2645, R2: 0.9862\n",
      "\n",
      "--- Training LightGBM Regressor ---\n",
      "[LightGBM] [Info] Auto-choosing row-wise multi-threading, the overhead of testing was 0.000979 seconds.\n",
      "You can set `force_row_wise=true` to remove the overhead.\n",
      "And if memory is not enough, you can set `force_col_wise=true`.\n",
      "[LightGBM] [Info] Total Bins 93\n",
      "[LightGBM] [Info] Number of data points in the train set: 7898, number of used features: 6\n",
      "[LightGBM] [Info] Start training from score 55.095974\n",
      "LightGBM Regressor - MAE: 1.7082, MSE: 4.6425, RMSE: 2.1547, R2: 0.9875\n",
      "\n",
      "--- Training CatBoost Regressor ---\n",
      "CatBoost Regressor - MAE: 1.7132, MSE: 4.6085, RMSE: 2.1467, R2: 0.9876\n",
      "\n",
      "Model evaluation complete.\n"
     ]
    }
   ],
   "source": [
    "results = evaluate_regression_models(X_train_transformed , y_train , X_test_transformed , y_test)"
   ]
  },
  {
   "cell_type": "code",
   "execution_count": null,
   "id": "3ca99e9c",
   "metadata": {
    "papermill": {
     "duration": 0.005912,
     "end_time": "2025-07-28T04:53:24.388909",
     "exception": false,
     "start_time": "2025-07-28T04:53:24.382997",
     "status": "completed"
    },
    "tags": []
   },
   "outputs": [],
   "source": []
  }
 ],
 "metadata": {
  "kaggle": {
   "accelerator": "none",
   "dataSources": [
    {
     "datasetId": 3462333,
     "sourceId": 6051848,
     "sourceType": "datasetVersion"
    }
   ],
   "dockerImageVersionId": 31089,
   "isGpuEnabled": false,
   "isInternetEnabled": true,
   "language": "python",
   "sourceType": "notebook"
  },
  "kernelspec": {
   "display_name": "Python 3",
   "language": "python",
   "name": "python3"
  },
  "language_info": {
   "codemirror_mode": {
    "name": "ipython",
    "version": 3
   },
   "file_extension": ".py",
   "mimetype": "text/x-python",
   "name": "python",
   "nbconvert_exporter": "python",
   "pygments_lexer": "ipython3",
   "version": "3.11.13"
  },
  "papermill": {
   "default_parameters": {},
   "duration": 38.280339,
   "end_time": "2025-07-28T04:53:25.415678",
   "environment_variables": {},
   "exception": null,
   "input_path": "__notebook__.ipynb",
   "output_path": "__notebook__.ipynb",
   "parameters": {},
   "start_time": "2025-07-28T04:52:47.135339",
   "version": "2.6.0"
  }
 },
 "nbformat": 4,
 "nbformat_minor": 5
}
